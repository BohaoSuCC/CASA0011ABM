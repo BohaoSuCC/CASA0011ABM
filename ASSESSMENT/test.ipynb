{
 "cells": [
  {
   "cell_type": "code",
   "execution_count": 2,
   "metadata": {},
   "outputs": [],
   "source": [
    "import pandas as pd \n",
    "import numpy as np\n",
    "import matplotlib.pyplot as plt\n",
    "import seaborn as sns\n",
    "import os\n",
    "import sys\n",
    "import argparse"
   ]
  },
  {
   "cell_type": "code",
   "execution_count": 5,
   "metadata": {},
   "outputs": [],
   "source": [
    "df = pd.read_csv(\"123.csv\")\n"
   ]
  },
  {
   "cell_type": "code",
   "execution_count": 7,
   "metadata": {},
   "outputs": [
    {
     "name": "stdout",
     "output_type": "stream",
     "text": [
      "<class 'pandas.core.frame.DataFrame'>\n",
      "RangeIndex: 510 entries, 0 to 509\n",
      "Data columns (total 5 columns):\n",
      " #   Column                   Non-Null Count  Dtype  \n",
      "---  ------                   --------------  -----  \n",
      " 0   [run number]             510 non-null    int64  \n",
      " 1   minimum-sugar-endowment  510 non-null    int64  \n",
      " 2   initial-population       510 non-null    int64  \n",
      " 3   [step]                   510 non-null    int64  \n",
      " 4   gini-index-reserve       510 non-null    float64\n",
      "dtypes: float64(1), int64(4)\n",
      "memory usage: 20.1 KB\n"
     ]
    }
   ],
   "source": [
    "df.info()"
   ]
  },
  {
   "cell_type": "code",
   "execution_count": 8,
   "metadata": {},
   "outputs": [
    {
     "data": {
      "text/plain": [
       "array([ 2, 10,  8,  4,  3,  7,  5,  9,  6,  1], dtype=int64)"
      ]
     },
     "execution_count": 8,
     "metadata": {},
     "output_type": "execute_result"
    }
   ],
   "source": [
    "df['[run number]'].unique()"
   ]
  },
  {
   "cell_type": "code",
   "execution_count": null,
   "metadata": {},
   "outputs": [],
   "source": [
    "df_list_pop = df['A'].unique().list()\n",
    "df_list_vision = df['B'].unique().list()"
   ]
  },
  {
   "cell_type": "code",
   "execution_count": null,
   "metadata": {},
   "outputs": [],
   "source": [
    "cleaned_df = pd.DataFrame({\n",
    "    'population': pd.Series(dtype='float64'),\n",
    "    'max_vision': pd.Series(dtype='float64'),\n",
    "    'Gini_index': pd.Series(dtype='float64'),\n",
    "    'survival_rate': pd.Series(dtype='float64')\n",
    "})"
   ]
  },
  {
   "cell_type": "code",
   "execution_count": null,
   "metadata": {},
   "outputs": [],
   "source": [
    "for i in df_list_pop:\n",
    "    for j in df_list_vision:\n",
    "        temp_df = df[(df['A'] == i) & (df['B'] == j) & (df['C'] == 2000)]\n",
    "        mean_gini = temp_df['D'].mean()\n",
    "        mean_survival = temp_df['E'].mean()\n",
    "\n",
    "        new_row = {'population': i, 'max_vision': j, 'Gini_index': mean_gini, 'survival_rate': mean_survival }\n",
    "        cleaned_df = cleaned_df.append(new_row, ignore_index=True)"
   ]
  },
  {
   "cell_type": "markdown",
   "metadata": {},
   "source": [
    "### Visualization"
   ]
  }
 ],
 "metadata": {
  "kernelspec": {
   "display_name": "base",
   "language": "python",
   "name": "python3"
  },
  "language_info": {
   "codemirror_mode": {
    "name": "ipython",
    "version": 3
   },
   "file_extension": ".py",
   "mimetype": "text/x-python",
   "name": "python",
   "nbconvert_exporter": "python",
   "pygments_lexer": "ipython3",
   "version": "3.11.5"
  }
 },
 "nbformat": 4,
 "nbformat_minor": 2
}
